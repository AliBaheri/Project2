{
 "cells": [
  {
   "cell_type": "markdown",
   "metadata": {},
   "source": [
    "# Self-Driving Car Engineer Nanodegree\n",
    "\n",
    "## Deep Learning\n",
    "\n",
    "## Project: Build a Traffic Sign Recognition Classifier\n",
    "\n",
    "In this notebook, a template is provided for you to implement your functionality in stages, which is required to successfully complete this project. If additional code is required that cannot be included in the notebook, be sure that the Python code is successfully imported and included in your submission if necessary. \n",
    "\n",
    "> **Note**: Once you have completed all of the code implementations, you need to finalize your work by exporting the iPython Notebook as an HTML document. Before exporting the notebook to html, all of the code cells need to have been run so that reviewers can see the final implementation and output. You can then export the notebook by using the menu above and navigating to  \\n\",\n",
    "    \"**File -> Download as -> HTML (.html)**. Include the finished document along with this notebook as your submission. \n",
    "\n",
    "In addition to implementing code, there is a writeup to complete. The writeup should be completed in a separate file, which can be either a markdown file or a pdf document. There is a [write up template](https://github.com/udacity/CarND-Traffic-Sign-Classifier-Project/blob/master/writeup_template.md) that can be used to guide the writing process. Completing the code template and writeup template will cover all of the [rubric points](https://review.udacity.com/#!/rubrics/481/view) for this project.\n",
    "\n",
    "The [rubric](https://review.udacity.com/#!/rubrics/481/view) contains \"Stand Out Suggestions\" for enhancing the project beyond the minimum requirements. The stand out suggestions are optional. If you decide to pursue the \"stand out suggestions\", you can include the code in this Ipython notebook and also discuss the results in the writeup file.\n",
    "\n",
    "\n",
    ">**Note:** Code and Markdown cells can be executed using the **Shift + Enter** keyboard shortcut. In addition, Markdown cells can be edited by typically double-clicking the cell to enter edit mode."
   ]
  },
  {
   "cell_type": "markdown",
   "metadata": {},
   "source": [
    "---\n",
    "## Step 0: Load The Data"
   ]
  },
  {
   "cell_type": "code",
   "execution_count": 1,
   "metadata": {},
   "outputs": [
    {
     "name": "stdout",
     "output_type": "stream",
     "text": [
      "/Users/ali/Dropbox/MOOC/Self_Driving_Car_Nanodegree_UDACITY/Term1/Project2\n"
     ]
    }
   ],
   "source": [
    "cd /Users/ali/Dropbox/MOOC/Self_Driving_Car_Nanodegree_UDACITY/Term1/Project2"
   ]
  },
  {
   "cell_type": "code",
   "execution_count": 2,
   "metadata": {
    "collapsed": true
   },
   "outputs": [],
   "source": [
    "# Load pickled data\n",
    "import pickle\n",
    "\n",
    "# TODO: Fill this in based on where you saved the training and testing data\n",
    "\n",
    "training_file   =  'traffic-signs-data/train.p'\n",
    "validation_file =  'traffic-signs-data/valid.p'\n",
    "testing_file    =  'traffic-signs-data/test.p'\n",
    "\n",
    "with open(training_file, mode='rb') as f:\n",
    "    train = pickle.load(f)\n",
    "with open(validation_file, mode='rb') as f:\n",
    "    valid = pickle.load(f)\n",
    "with open(testing_file, mode='rb') as f:\n",
    "    test = pickle.load(f)\n",
    "    \n",
    "X_train, y_train = train['features'], train['labels']\n",
    "X_valid, y_valid = valid['features'], valid['labels']\n",
    "X_test, y_test = test['features'], test['labels']"
   ]
  },
  {
   "cell_type": "markdown",
   "metadata": {},
   "source": [
    "---\n",
    "\n",
    "## Step 1: Dataset Summary & Exploration\n",
    "\n",
    "The pickled data is a dictionary with 4 key/value pairs:\n",
    "\n",
    "- `'features'` is a 4D array containing raw pixel data of the traffic sign images, (num examples, width, height, channels).\n",
    "- `'labels'` is a 1D array containing the label/class id of the traffic sign. The file `signnames.csv` contains id -> name mappings for each id.\n",
    "- `'sizes'` is a list containing tuples, (width, height) representing the original width and height the image.\n",
    "- `'coords'` is a list containing tuples, (x1, y1, x2, y2) representing coordinates of a bounding box around the sign in the image. **THESE COORDINATES ASSUME THE ORIGINAL IMAGE. THE PICKLED DATA CONTAINS RESIZED VERSIONS (32 by 32) OF THESE IMAGES**\n",
    "\n",
    "Complete the basic data summary below. Use python, numpy and/or pandas methods to calculate the data summary rather than hard coding the results. For example, the [pandas shape method](http://pandas.pydata.org/pandas-docs/stable/generated/pandas.DataFrame.shape.html) might be useful for calculating some of the summary results. "
   ]
  },
  {
   "cell_type": "markdown",
   "metadata": {},
   "source": [
    "### Provide a Basic Summary of the Data Set Using Python, Numpy and/or Pandas"
   ]
  },
  {
   "cell_type": "code",
   "execution_count": 3,
   "metadata": {},
   "outputs": [
    {
     "name": "stdout",
     "output_type": "stream",
     "text": [
      "Number of training examples = 34799\n",
      "Number of testing examples = 12630\n",
      "Image data shape = (32, 32, 3)\n",
      "Number of classes = 43\n"
     ]
    }
   ],
   "source": [
    "### Replace each question mark with the appropriate value. \n",
    "### Use python, pandas or numpy methods rather than hard coding the results\n",
    "\n",
    "import numpy as np\n",
    "# TODO: Number of training examples\n",
    "n_train = len(X_train)\n",
    "\n",
    "# TODO: Number of validation examples\n",
    "n_validation = len(X_valid)\n",
    "\n",
    "# TODO: Number of testing examples.\n",
    "n_test = len(X_test)\n",
    "\n",
    "# TODO: What's the shape of an traffic sign image?\n",
    "image_shape = X_train[0].shape\n",
    "\n",
    "# TODO: How many unique classes/labels there are in the dataset.\n",
    "n_classes = len(np.unique(y_train))\n",
    "\n",
    "print(\"Number of training examples =\", n_train)\n",
    "print(\"Number of testing examples =\", n_test)\n",
    "print(\"Image data shape =\", image_shape)\n",
    "print(\"Number of classes =\", n_classes)"
   ]
  },
  {
   "cell_type": "markdown",
   "metadata": {},
   "source": [
    "### Include an exploratory visualization of the dataset"
   ]
  },
  {
   "cell_type": "markdown",
   "metadata": {},
   "source": [
    "Visualize the German Traffic Signs Dataset using the pickled file(s). This is open ended, suggestions include: plotting traffic sign images, plotting the count of each sign, etc. \n",
    "\n",
    "The [Matplotlib](http://matplotlib.org/) [examples](http://matplotlib.org/examples/index.html) and [gallery](http://matplotlib.org/gallery.html) pages are a great resource for doing visualizations in Python.\n",
    "\n",
    "**NOTE:** It's recommended you start with something simple first. If you wish to do more, come back to it after you've completed the rest of the sections. It can be interesting to look at the distribution of classes in the training, validation and test set. Is the distribution the same? Are there more examples of some classes than others?"
   ]
  },
  {
   "cell_type": "code",
   "execution_count": 4,
   "metadata": {},
   "outputs": [
    {
     "name": "stdout",
     "output_type": "stream",
     "text": [
      "2\n"
     ]
    },
    {
     "data": {
      "image/png": "[encoded data removed]",
      "text/plain": [
       "<matplotlib.figure.Figure at 0x112718828>"
      ]
     },
     "metadata": {},
     "output_type": "display_data"
    },
    {
     "data": {
      "image/png": "[encoded data removed]",
      "text/plain": [
       "<matplotlib.figure.Figure at 0x12eac2550>"
      ]
     },
     "metadata": {},
     "output_type": "display_data"
    },
    {
     "data": {
      "image/png": "[encoded data removed]",
      "text/plain": [
       "<matplotlib.figure.Figure at 0x12eb00e80>"
      ]
     },
     "metadata": {},
     "output_type": "display_data"
    },
    {
     "data": {
      "image/png": "[encoded data removed]",
      "text/plain": [
       "<matplotlib.figure.Figure at 0x12eb44828>"
      ]
     },
     "metadata": {},
     "output_type": "display_data"
    },
    {
     "data": {
      "image/png": "[encoded data removed]",
      "text/plain": [
       "<matplotlib.figure.Figure at 0x12ead8898>"
      ]
     },
     "metadata": {},
     "output_type": "display_data"
    }
   ],
   "source": [
    "import random\n",
    "import numpy as np\n",
    "import matplotlib.pyplot as plt\n",
    "%matplotlib inline\n",
    "\n",
    "for i in range(5):\n",
    "    index = random.randint(0, len(X_train))\n",
    "    image = X_train[index].squeeze()\n",
    "\n",
    "    plt.figure(figsize=(1,1))\n",
    "    plt.imshow(image)\n",
    "print(y_train[index])"
   ]
  },
  {
   "cell_type": "code",
   "execution_count": 5,
   "metadata": {},
   "outputs": [
    {
     "data": {
      "text/plain": [
       "<Container object of 43 artists>"
      ]
     },
     "execution_count": 5,
     "metadata": {},
     "output_type": "execute_result"
    },
    {
     "data": {
      "image/png": "[encoded data removed]",
      "text/plain": [
       "<matplotlib.figure.Figure at 0x112718be0>"
      ]
     },
     "metadata": {},
     "output_type": "display_data"
    }
   ],
   "source": [
    "item, count = np.unique(y_train, return_counts = True)\n",
    "plt.xlabel('Class id')\n",
    "plt.ylabel('Number of occurrences')\n",
    "plt.bar(item, count)"
   ]
  },
  {
   "cell_type": "markdown",
   "metadata": {},
   "source": [
    "----\n",
    "\n",
    "## Step 2: Design and Test a Model Architecture\n",
    "\n",
    "Design and implement a deep learning model that learns to recognize traffic signs. Train and test your model on the [German Traffic Sign Dataset](http://benchmark.ini.rub.de/?section=gtsrb&subsection=dataset).\n",
    "\n",
    "The LeNet-5 implementation shown in the [classroom](https://classroom.udacity.com/nanodegrees/nd013/parts/fbf77062-5703-404e-b60c-95b78b2f3f9e/modules/6df7ae49-c61c-4bb2-a23e-6527e69209ec/lessons/601ae704-1035-4287-8b11-e2c2716217ad/concepts/d4aca031-508f-4e0b-b493-e7b706120f81) at the end of the CNN lesson is a solid starting point. You'll have to change the number of classes and possibly the preprocessing, but aside from that it's plug and play! \n",
    "\n",
    "With the LeNet-5 solution from the lecture, you should expect a validation set accuracy of about 0.89. To meet specifications, the validation set accuracy will need to be at least 0.93. It is possible to get an even higher accuracy, but 0.93 is the minimum for a successful project submission. \n",
    "\n",
    "There are various aspects to consider when thinking about this problem:\n",
    "\n",
    "- Neural network architecture (is the network over or underfitting?)\n",
    "- Play around preprocessing techniques (normalization, rgb to grayscale, etc)\n",
    "- Number of examples per label (some have more than others).\n",
    "- Generate fake data.\n",
    "\n",
    "Here is an example of a [published baseline model on this problem](http://yann.lecun.com/exdb/publis/pdf/sermanet-ijcnn-11.pdf). It's not required to be familiar with the approach used in the paper but, it's good practice to try to read papers like these."
   ]
  },
  {
   "cell_type": "markdown",
   "metadata": {},
   "source": [
    "### Pre-process the Data Set (normalization, grayscale, etc.)"
   ]
  },
  {
   "cell_type": "markdown",
   "metadata": {},
   "source": [
    "Minimally, the image data should be normalized so that the data has mean zero and equal variance. For image data, `(pixel - 128)/ 128` is a quick way to approximately normalize the data and can be used in this project. \n",
    "\n",
    "Other pre-processing steps are optional. You can try different techniques to see if it improves performance. \n",
    "\n",
    "Use the code cell (or multiple code cells, if necessary) to implement the first step of your project."
   ]
  },
  {
   "cell_type": "code",
   "execution_count": 6,
   "metadata": {
    "collapsed": true
   },
   "outputs": [],
   "source": [
    "import numpy as np\n",
    "import cv2\n",
    "\n",
    "def normalize_image(image):\n",
    "    image = image.astype(np.float32)\n",
    "    image = (image - image.mean())/image.std()\n",
    "    imgray = cv2.cvtColor(image, cv2.COLOR_RGB2GRAY)\n",
    "    imgray = imgray.reshape((-1,32,32,1))\n",
    "    return imgray\n",
    "\n",
    "def normalize_grayscale(image):\n",
    "    gray_image = np.zeros((len(image), 32, 32, 1), dtype=np.float32)\n",
    "    for i, img in enumerate(image):\n",
    "        gray_image[i] = normalize_image(img)\n",
    "    return gray_image\n",
    "\n",
    "X_train = normalize_grayscale(X_train)\n",
    "X_valid = normalize_grayscale(X_valid)\n",
    "X_test = normalize_grayscale(X_test)"
   ]
  },
  {
   "cell_type": "code",
   "execution_count": 7,
   "metadata": {
    "collapsed": true
   },
   "outputs": [],
   "source": [
    "from sklearn.utils import shuffle\n",
    "\n",
    "X_train, y_train = shuffle(X_train, y_train)"
   ]
  },
  {
   "cell_type": "code",
   "execution_count": 8,
   "metadata": {},
   "outputs": [
    {
     "name": "stderr",
     "output_type": "stream",
     "text": [
      "/Users/ali/anaconda3/lib/python3.6/importlib/_bootstrap.py:219: RuntimeWarning: compiletime version 3.5 of module 'tensorflow.python.framework.fast_tensor_util' does not match runtime version 3.6\n",
      "  return f(*args, **kwds)\n"
     ]
    }
   ],
   "source": [
    "import tensorflow as tf\n",
    "\n",
    "EPOCHS = 60\n",
    "BATCH_SIZE = 100"
   ]
  },
  {
   "cell_type": "code",
   "execution_count": 9,
   "metadata": {
    "collapsed": true
   },
   "outputs": [],
   "source": [
    "from tensorflow.contrib.layers import flatten\n",
    "\n",
    "def LeNet(x):    \n",
    "    # Arguments used for tf.truncated_normal, randomly defines variables for the weights and biases for each layer\n",
    "    mu = 0\n",
    "    sigma = 0.1\n",
    "    \n",
    "    # SOLUTION: Layer 1: Convolutional. Input = 32x32x1. Output = 28x28x6.\n",
    "    conv1_W = tf.Variable(tf.truncated_normal(shape=(5, 5, 1, 6), mean = mu, stddev = sigma))\n",
    "    conv1_b = tf.Variable(tf.zeros(6))\n",
    "    conv1   = tf.nn.conv2d(x, conv1_W, strides=[1, 1, 1, 1], padding='VALID') + conv1_b\n",
    "\n",
    "    # SOLUTION: Activation.\n",
    "    conv1 = tf.nn.relu(conv1)\n",
    "\n",
    "    # SOLUTION: Pooling. Input = 28x28x6. Output = 14x14x6.\n",
    "    conv1 = tf.nn.max_pool(conv1, ksize=[1, 2, 2, 1], strides=[1, 2, 2, 1], padding='VALID')\n",
    "\n",
    "    # SOLUTION: Layer 2: Convolutional. Output = 10x10x16.\n",
    "    conv2_W = tf.Variable(tf.truncated_normal(shape=(5, 5, 6, 16), mean = mu, stddev = sigma))\n",
    "    conv2_b = tf.Variable(tf.zeros(16))\n",
    "    conv2   = tf.nn.conv2d(conv1, conv2_W, strides=[1, 1, 1, 1], padding='VALID') + conv2_b\n",
    "    \n",
    "    # SOLUTION: Activation.\n",
    "    conv2 = tf.nn.relu(conv2)\n",
    "\n",
    "    # SOLUTION: Pooling. Input = 10x10x16. Output = 5x5x16.\n",
    "    conv2 = tf.nn.max_pool(conv2, ksize=[1, 2, 2, 1], strides=[1, 2, 2, 1], padding='VALID')\n",
    "\n",
    "    # SOLUTION: Flatten. Input = 5x5x16. Output = 400.\n",
    "    fc0   = flatten(conv2)\n",
    "    \n",
    "    # SOLUTION: Layer 3: Fully Connected. Input = 400. Output = 120.\n",
    "    fc1_W = tf.Variable(tf.truncated_normal(shape=(400, 120), mean = mu, stddev = sigma))\n",
    "    fc1_b = tf.Variable(tf.zeros(120))\n",
    "    fc1   = tf.matmul(fc0, fc1_W) + fc1_b\n",
    "    \n",
    "    # SOLUTION: Activation.\n",
    "    fc1    = tf.nn.relu(fc1)\n",
    "    \n",
    "    # Dropout\n",
    "    fc1 = tf.nn.dropout(fc1, keep_prob = 0.5)\n",
    "\n",
    "    # SOLUTION: Layer 4: Fully Connected. Input = 120. Output = 84.\n",
    "    fc2_W  = tf.Variable(tf.truncated_normal(shape=(120, 84), mean = mu, stddev = sigma))\n",
    "    fc2_b  = tf.Variable(tf.zeros(84))\n",
    "    fc2    = tf.matmul(fc1, fc2_W) + fc2_b\n",
    "    \n",
    "    # SOLUTION: Activation.\n",
    "    fc2    = tf.nn.tanh(fc2)\n",
    "    \n",
    "    # Dropout\n",
    "    fc2 = tf.nn.dropout(fc2, keep_prob = 0.5)\n",
    "    \n",
    "    # SOLUTION: Layer 5: Fully Connected. Input = 84. Output = 43.\n",
    "    fc3_W  = tf.Variable(tf.truncated_normal(shape=(84, 43), mean = mu, stddev = sigma))\n",
    "    fc3_b  = tf.Variable(tf.zeros(43))\n",
    "    logits = tf.matmul(fc2, fc3_W) + fc3_b\n",
    "    \n",
    "    return logits"
   ]
  },
  {
   "cell_type": "code",
   "execution_count": 10,
   "metadata": {
    "collapsed": true
   },
   "outputs": [],
   "source": [
    "x = tf.placeholder(tf.float32, (None, 32, 32, 1))\n",
    "y = tf.placeholder(tf.int32, (None))\n",
    "one_hot_y = tf.one_hot(y, 43)"
   ]
  },
  {
   "cell_type": "markdown",
   "metadata": {},
   "source": [
    "### Train, Validate and Test the Model"
   ]
  },
  {
   "cell_type": "code",
   "execution_count": 11,
   "metadata": {
    "collapsed": true
   },
   "outputs": [],
   "source": [
    "rate = 0.001\n",
    "\n",
    "logits = LeNet(x)\n",
    "loss = tf.reduce_mean(tf.nn.softmax_cross_entropy_with_logits(labels = one_hot_y, logits = logits))\n",
    "cross_entropy = tf.nn.softmax_cross_entropy_with_logits(labels=one_hot_y, logits=logits)\n",
    "loss_operation = tf.reduce_mean(cross_entropy)\n",
    "optimizer = tf.train.AdamOptimizer(learning_rate = rate)\n",
    "training_operation = optimizer.minimize(loss_operation)"
   ]
  },
  {
   "cell_type": "code",
   "execution_count": 12,
   "metadata": {
    "collapsed": true
   },
   "outputs": [],
   "source": [
    "correct_prediction = tf.equal(tf.argmax(logits, 1), tf.argmax(one_hot_y, 1))\n",
    "accuracy_operation = tf.reduce_mean(tf.cast(correct_prediction, tf.float32))\n",
    "saver = tf.train.Saver()\n",
    "\n",
    "def evaluate(X_data, y_data):\n",
    "    num_examples = len(X_data)\n",
    "    total_accuracy = 0\n",
    "    sess = tf.get_default_session()\n",
    "    for offset in range(0, num_examples, BATCH_SIZE):\n",
    "        batch_x, batch_y = X_data[offset:offset + BATCH_SIZE], y_data[offset:offset + BATCH_SIZE]\n",
    "        accuracy = sess.run(accuracy_operation, feed_dict={x: batch_x, y: batch_y})\n",
    "        total_accuracy += (accuracy * len(batch_x))\n",
    "    return total_accuracy / num_examples"
   ]
  },
  {
   "cell_type": "code",
   "execution_count": 13,
   "metadata": {},
   "outputs": [
    {
     "name": "stdout",
     "output_type": "stream",
     "text": [
      "Training...\n",
      "\n",
      "EPOCH 1 ...\n",
      "Train Accuracy = 0.639\n",
      "Validation Accuracy = 0.595\n",
      "Test Accuracy = 0.594\n",
      "\n",
      "EPOCH 2 ...\n",
      "Train Accuracy = 0.802\n",
      "Validation Accuracy = 0.750\n",
      "Test Accuracy = 0.743\n",
      "\n",
      "EPOCH 3 ...\n",
      "Train Accuracy = 0.860\n",
      "Validation Accuracy = 0.805\n",
      "Test Accuracy = 0.797\n",
      "\n",
      "EPOCH 4 ...\n",
      "Train Accuracy = 0.890\n",
      "Validation Accuracy = 0.834\n",
      "Test Accuracy = 0.822\n",
      "\n",
      "EPOCH 5 ...\n",
      "Train Accuracy = 0.908\n",
      "Validation Accuracy = 0.859\n",
      "Test Accuracy = 0.839\n",
      "\n",
      "EPOCH 6 ...\n",
      "Train Accuracy = 0.928\n",
      "Validation Accuracy = 0.861\n",
      "Test Accuracy = 0.851\n",
      "\n",
      "EPOCH 7 ...\n",
      "Train Accuracy = 0.937\n",
      "Validation Accuracy = 0.874\n",
      "Test Accuracy = 0.862\n",
      "\n",
      "EPOCH 8 ...\n",
      "Train Accuracy = 0.941\n",
      "Validation Accuracy = 0.885\n",
      "Test Accuracy = 0.868\n",
      "\n",
      "EPOCH 9 ...\n",
      "Train Accuracy = 0.947\n",
      "Validation Accuracy = 0.883\n",
      "Test Accuracy = 0.874\n",
      "\n",
      "EPOCH 10 ...\n",
      "Train Accuracy = 0.954\n",
      "Validation Accuracy = 0.891\n",
      "Test Accuracy = 0.877\n",
      "\n",
      "EPOCH 11 ...\n",
      "Train Accuracy = 0.960\n",
      "Validation Accuracy = 0.896\n",
      "Test Accuracy = 0.889\n",
      "\n",
      "EPOCH 12 ...\n",
      "Train Accuracy = 0.962\n",
      "Validation Accuracy = 0.901\n",
      "Test Accuracy = 0.891\n",
      "\n",
      "EPOCH 13 ...\n",
      "Train Accuracy = 0.964\n",
      "Validation Accuracy = 0.909\n",
      "Test Accuracy = 0.887\n",
      "\n",
      "EPOCH 14 ...\n",
      "Train Accuracy = 0.965\n",
      "Validation Accuracy = 0.905\n",
      "Test Accuracy = 0.885\n",
      "\n",
      "EPOCH 15 ...\n",
      "Train Accuracy = 0.967\n",
      "Validation Accuracy = 0.912\n",
      "Test Accuracy = 0.895\n",
      "\n",
      "EPOCH 16 ...\n",
      "Train Accuracy = 0.969\n",
      "Validation Accuracy = 0.903\n",
      "Test Accuracy = 0.897\n",
      "\n",
      "EPOCH 17 ...\n",
      "Train Accuracy = 0.969\n",
      "Validation Accuracy = 0.920\n",
      "Test Accuracy = 0.896\n",
      "\n",
      "EPOCH 18 ...\n",
      "Train Accuracy = 0.972\n",
      "Validation Accuracy = 0.909\n",
      "Test Accuracy = 0.891\n",
      "\n",
      "EPOCH 19 ...\n",
      "Train Accuracy = 0.973\n",
      "Validation Accuracy = 0.914\n",
      "Test Accuracy = 0.900\n",
      "\n",
      "EPOCH 20 ...\n",
      "Train Accuracy = 0.973\n",
      "Validation Accuracy = 0.919\n",
      "Test Accuracy = 0.898\n",
      "\n",
      "EPOCH 21 ...\n",
      "Train Accuracy = 0.974\n",
      "Validation Accuracy = 0.919\n",
      "Test Accuracy = 0.903\n",
      "\n",
      "EPOCH 22 ...\n",
      "Train Accuracy = 0.974\n",
      "Validation Accuracy = 0.915\n",
      "Test Accuracy = 0.904\n",
      "\n",
      "EPOCH 23 ...\n",
      "Train Accuracy = 0.976\n",
      "Validation Accuracy = 0.917\n",
      "Test Accuracy = 0.907\n",
      "\n",
      "EPOCH 24 ...\n",
      "Train Accuracy = 0.976\n",
      "Validation Accuracy = 0.916\n",
      "Test Accuracy = 0.904\n",
      "\n",
      "EPOCH 25 ...\n",
      "Train Accuracy = 0.977\n",
      "Validation Accuracy = 0.916\n",
      "Test Accuracy = 0.905\n",
      "\n",
      "EPOCH 26 ...\n",
      "Train Accuracy = 0.976\n",
      "Validation Accuracy = 0.922\n",
      "Test Accuracy = 0.910\n",
      "\n",
      "EPOCH 27 ...\n",
      "Train Accuracy = 0.977\n",
      "Validation Accuracy = 0.919\n",
      "Test Accuracy = 0.906\n",
      "\n",
      "EPOCH 28 ...\n",
      "Train Accuracy = 0.979\n",
      "Validation Accuracy = 0.926\n",
      "Test Accuracy = 0.903\n",
      "\n",
      "EPOCH 29 ...\n",
      "Train Accuracy = 0.980\n",
      "Validation Accuracy = 0.918\n",
      "Test Accuracy = 0.909\n",
      "\n",
      "EPOCH 30 ...\n",
      "Train Accuracy = 0.979\n",
      "Validation Accuracy = 0.922\n",
      "Test Accuracy = 0.907\n",
      "\n",
      "EPOCH 31 ...\n",
      "Train Accuracy = 0.977\n",
      "Validation Accuracy = 0.923\n",
      "Test Accuracy = 0.909\n",
      "\n",
      "EPOCH 32 ...\n",
      "Train Accuracy = 0.979\n",
      "Validation Accuracy = 0.927\n",
      "Test Accuracy = 0.907\n",
      "\n",
      "EPOCH 33 ...\n",
      "Train Accuracy = 0.983\n",
      "Validation Accuracy = 0.929\n",
      "Test Accuracy = 0.916\n",
      "\n",
      "EPOCH 34 ...\n",
      "Train Accuracy = 0.981\n",
      "Validation Accuracy = 0.927\n",
      "Test Accuracy = 0.911\n",
      "\n",
      "EPOCH 35 ...\n",
      "Train Accuracy = 0.982\n",
      "Validation Accuracy = 0.928\n",
      "Test Accuracy = 0.910\n",
      "\n",
      "EPOCH 36 ...\n",
      "Train Accuracy = 0.983\n",
      "Validation Accuracy = 0.930\n",
      "Test Accuracy = 0.914\n",
      "\n",
      "EPOCH 37 ...\n",
      "Train Accuracy = 0.983\n",
      "Validation Accuracy = 0.928\n",
      "Test Accuracy = 0.912\n",
      "\n",
      "EPOCH 38 ...\n",
      "Train Accuracy = 0.981\n",
      "Validation Accuracy = 0.923\n",
      "Test Accuracy = 0.908\n",
      "\n",
      "EPOCH 39 ...\n",
      "Train Accuracy = 0.983\n",
      "Validation Accuracy = 0.930\n",
      "Test Accuracy = 0.913\n",
      "\n",
      "EPOCH 40 ...\n",
      "Train Accuracy = 0.983\n",
      "Validation Accuracy = 0.930\n",
      "Test Accuracy = 0.911\n",
      "\n",
      "EPOCH 41 ...\n",
      "Train Accuracy = 0.983\n",
      "Validation Accuracy = 0.927\n",
      "Test Accuracy = 0.915\n",
      "\n",
      "EPOCH 42 ...\n",
      "Train Accuracy = 0.985\n",
      "Validation Accuracy = 0.936\n",
      "Test Accuracy = 0.914\n",
      "\n",
      "EPOCH 43 ...\n",
      "Train Accuracy = 0.985\n",
      "Validation Accuracy = 0.931\n",
      "Test Accuracy = 0.916\n",
      "\n",
      "EPOCH 44 ...\n",
      "Train Accuracy = 0.984\n",
      "Validation Accuracy = 0.929\n",
      "Test Accuracy = 0.915\n",
      "\n",
      "EPOCH 45 ...\n",
      "Train Accuracy = 0.982\n",
      "Validation Accuracy = 0.930\n",
      "Test Accuracy = 0.913\n",
      "\n",
      "EPOCH 46 ...\n",
      "Train Accuracy = 0.984\n",
      "Validation Accuracy = 0.933\n",
      "Test Accuracy = 0.914\n",
      "\n",
      "EPOCH 47 ...\n",
      "Train Accuracy = 0.983\n",
      "Validation Accuracy = 0.933\n",
      "Test Accuracy = 0.910\n",
      "\n",
      "EPOCH 48 ...\n",
      "Train Accuracy = 0.984\n",
      "Validation Accuracy = 0.935\n",
      "Test Accuracy = 0.909\n",
      "\n",
      "EPOCH 49 ...\n",
      "Train Accuracy = 0.986\n",
      "Validation Accuracy = 0.938\n",
      "Test Accuracy = 0.914\n",
      "\n",
      "EPOCH 50 ...\n",
      "Train Accuracy = 0.983\n",
      "Validation Accuracy = 0.926\n",
      "Test Accuracy = 0.913\n",
      "\n",
      "EPOCH 51 ...\n",
      "Train Accuracy = 0.986\n",
      "Validation Accuracy = 0.932\n",
      "Test Accuracy = 0.914\n",
      "\n",
      "EPOCH 52 ...\n",
      "Train Accuracy = 0.979\n",
      "Validation Accuracy = 0.929\n",
      "Test Accuracy = 0.904\n",
      "\n",
      "EPOCH 53 ...\n",
      "Train Accuracy = 0.982\n",
      "Validation Accuracy = 0.939\n",
      "Test Accuracy = 0.913\n",
      "\n",
      "EPOCH 54 ...\n",
      "Train Accuracy = 0.987\n",
      "Validation Accuracy = 0.934\n",
      "Test Accuracy = 0.917\n",
      "\n",
      "EPOCH 55 ...\n",
      "Train Accuracy = 0.986\n",
      "Validation Accuracy = 0.935\n",
      "Test Accuracy = 0.919\n",
      "\n",
      "EPOCH 56 ...\n",
      "Train Accuracy = 0.985\n",
      "Validation Accuracy = 0.929\n",
      "Test Accuracy = 0.911\n",
      "\n",
      "EPOCH 57 ...\n",
      "Train Accuracy = 0.986\n",
      "Validation Accuracy = 0.940\n",
      "Test Accuracy = 0.913\n",
      "\n",
      "EPOCH 58 ...\n",
      "Train Accuracy = 0.987\n",
      "Validation Accuracy = 0.940\n",
      "Test Accuracy = 0.915\n",
      "\n",
      "EPOCH 59 ...\n",
      "Train Accuracy = 0.982\n",
      "Validation Accuracy = 0.930\n",
      "Test Accuracy = 0.915\n",
      "\n",
      "EPOCH 60 ...\n",
      "Train Accuracy = 0.986\n",
      "Validation Accuracy = 0.940\n",
      "Test Accuracy = 0.917\n",
      "\n",
      "Model saved\n"
     ]
    }
   ],
   "source": [
    "with tf.Session() as sess:\n",
    "    sess.run(tf.global_variables_initializer())\n",
    "    num_examples = len(X_train)\n",
    "    \n",
    "    print(\"Training...\")\n",
    "    print()\n",
    "    for i in range(EPOCHS):\n",
    "        X_train, y_train = shuffle(X_train, y_train)\n",
    "        for offset in range(0, num_examples, BATCH_SIZE):\n",
    "            end = offset + BATCH_SIZE\n",
    "            batch_x, batch_y = X_train[offset:end], y_train[offset:end]\n",
    "            sess.run(training_operation, feed_dict={x: batch_x, y: batch_y})\n",
    "            \n",
    "        train_accuracy = evaluate(X_train, y_train)\n",
    "        validation_accuracy = evaluate(X_valid, y_valid)\n",
    "        test_accuracy = evaluate(X_test, y_test)\n",
    "        \n",
    "        print(\"EPOCH {} ...\".format(i+1))\n",
    "        print(\"Train Accuracy = {:.3f}\".format(train_accuracy))\n",
    "        print(\"Validation Accuracy = {:.3f}\".format(validation_accuracy))\n",
    "        print(\"Test Accuracy = {:.3f}\".format(test_accuracy))\n",
    "        print()\n",
    "        \n",
    "    saver.save(sess, './lenet')\n",
    "    print(\"Model saved\")"
   ]
  },
  {
   "cell_type": "markdown",
   "metadata": {},
   "source": [
    "A validation set can be used to assess how well the model is performing. A low accuracy on the training and validation\n",
    "sets imply underfitting. A high accuracy on the training set but low accuracy on the validation set implies overfitting."
   ]
  },
  {
   "cell_type": "markdown",
   "metadata": {},
   "source": [
    "---\n",
    "\n",
    "## Step 3: Test a Model on New Images\n",
    "\n",
    "To give yourself more insight into how your model is working, download at least five pictures of German traffic signs from the web and use your model to predict the traffic sign type.\n",
    "\n",
    "You may find `signnames.csv` useful as it contains mappings from the class id (integer) to the actual sign name."
   ]
  },
  {
   "cell_type": "markdown",
   "metadata": {},
   "source": [
    "### Load and Output the Images"
   ]
  },
  {
   "cell_type": "code",
   "execution_count": 14,
   "metadata": {},
   "outputs": [
    {
     "name": "stdout",
     "output_type": "stream",
     "text": [
      "(10, 32, 32, 1)\n"
     ]
    },
    {
     "data": {
      "image/png": "[encoded data removed]",
      "text/plain": [
       "<matplotlib.figure.Figure at 0x113ea8160>"
      ]
     },
     "metadata": {},
     "output_type": "display_data"
    }
   ],
   "source": [
    "### Load the images and plot them here.\n",
    "### Feel free to use as many code cells as needed.\n",
    "\n",
    "import glob\n",
    "import matplotlib.image as mpimg\n",
    "import matplotlib.pyplot as plt\n",
    "\n",
    "fig, axs = plt.subplots(2,5, figsize = (5, 2))\n",
    "fig.subplots_adjust(hspace = 0.2, wspace = .001)\n",
    "axs = axs.ravel()\n",
    "\n",
    "test_images = []\n",
    "\n",
    "for i, img in enumerate(glob.glob('./images_from_web/*.jpeg')):\n",
    "    image = cv2.imread(img)\n",
    "    image = cv2.resize(image, (32,32))\n",
    "    axs[i].axis('off')\n",
    "    axs[i].imshow(cv2.cvtColor(image, cv2.COLOR_BGR2RGB))\n",
    "    test_images.append(image) \n",
    "    \n",
    "new_images = normalize_grayscale(test_images)\n",
    "\n",
    "print(new_images.shape)"
   ]
  },
  {
   "cell_type": "markdown",
   "metadata": {},
   "source": [
    "### Predict the Sign Type for Each Image and analyze performance"
   ]
  },
  {
   "cell_type": "code",
   "execution_count": 15,
   "metadata": {},
   "outputs": [
    {
     "name": "stdout",
     "output_type": "stream",
     "text": [
      "INFO:tensorflow:Restoring parameters from ./lenet\n",
      "Test Set Accuracy = 0.500\n"
     ]
    },
    {
     "data": {
      "image/png": "[encoded data removed]",
      "text/plain": [
       "<matplotlib.figure.Figure at 0x1a53880a90>"
      ]
     },
     "metadata": {},
     "output_type": "display_data"
    },
    {
     "name": "stdout",
     "output_type": "stream",
     "text": [
      "6\n"
     ]
    }
   ],
   "source": [
    "new_labels = [18,17,14,12,1,34,23,21,13,35]\n",
    "\n",
    "with tf.Session() as sess2:\n",
    "    saver2 = tf.train.import_meta_graph('./lenet.meta')\n",
    "    saver2.restore(sess2, tf.train.latest_checkpoint('.'))\n",
    "    predictions = sess2.run(tf.argmax(logits, 1), feed_dict={x: new_images})\n",
    "    my_accuracy = evaluate(new_images, new_labels)\n",
    "    print(\"Test Set Accuracy = {:.3f}\".format(my_accuracy))\n",
    "    \n",
    "errors = 0\n",
    "plt.figure(figsize=(5,5))\n",
    "\n",
    "for (i,v) in enumerate(predictions):\n",
    "    image = new_images[i].squeeze()\n",
    "    plt.subplot(3, 5, i+1)\n",
    "    plt.imshow(image)\n",
    "    plt.axis('on')\n",
    "    plt.title('A#{}\\nP#{}'.format(new_labels[i], v))\n",
    "    if(new_labels[i]!= v):\n",
    "        errors+=1\n",
    "plt.show()\n",
    "print (errors)"
   ]
  },
  {
   "cell_type": "markdown",
   "metadata": {},
   "source": [
    "### Output Top 5 Softmax Probabilities For Each Image Found on the Web"
   ]
  },
  {
   "cell_type": "markdown",
   "metadata": {},
   "source": [
    "For each of the new images, print out the model's softmax probabilities to show the **certainty** of the model's predictions (limit the output to the top 5 probabilities for each image). [`tf.nn.top_k`](https://www.tensorflow.org/versions/r0.12/api_docs/python/nn.html#top_k) could prove helpful here. \n",
    "\n",
    "The example below demonstrates how tf.nn.top_k can be used to find the top k predictions for each image.\n",
    "\n",
    "`tf.nn.top_k` will return the values and indices (class ids) of the top k predictions. So if k=3, for each sign, it'll return the 3 largest probabilities (out of a possible 43) and the correspoding class ids.\n",
    "\n",
    "Take this numpy array as an example. The values in the array represent predictions. The array contains softmax probabilities for five candidate images with six possible classes. `tf.nn.top_k` is used to choose the three classes with the highest probability:\n",
    "\n",
    "```\n",
    "# (5, 6) array\n",
    "a = np.array([[ 0.24879643,  0.07032244,  0.12641572,  0.34763842,  0.07893497,\n",
    "         0.12789202],\n",
    "       [ 0.28086119,  0.27569815,  0.08594638,  0.0178669 ,  0.18063401,\n",
    "         0.15899337],\n",
    "       [ 0.26076848,  0.23664738,  0.08020603,  0.07001922,  0.1134371 ,\n",
    "         0.23892179],\n",
    "       [ 0.11943333,  0.29198961,  0.02605103,  0.26234032,  0.1351348 ,\n",
    "         0.16505091],\n",
    "       [ 0.09561176,  0.34396535,  0.0643941 ,  0.16240774,  0.24206137,\n",
    "         0.09155967]])\n",
    "```\n",
    "\n",
    "Running it through `sess.run(tf.nn.top_k(tf.constant(a), k=3))` produces:\n",
    "\n",
    "```\n",
    "TopKV2(values=array([[ 0.34763842,  0.24879643,  0.12789202],\n",
    "       [ 0.28086119,  0.27569815,  0.18063401],\n",
    "       [ 0.26076848,  0.23892179,  0.23664738],\n",
    "       [ 0.29198961,  0.26234032,  0.16505091],\n",
    "       [ 0.34396535,  0.24206137,  0.16240774]]), indices=array([[3, 0, 5],\n",
    "       [0, 1, 4],\n",
    "       [0, 5, 1],\n",
    "       [1, 3, 5],\n",
    "       [1, 4, 3]], dtype=int32))\n",
    "```\n",
    "\n",
    "Looking just at the first row we get `[ 0.34763842,  0.24879643,  0.12789202]`, you can confirm these are the 3 largest probabilities in `a`. You'll also notice `[3, 0, 5]` are the corresponding indices."
   ]
  },
  {
   "cell_type": "code",
   "execution_count": 16,
   "metadata": {},
   "outputs": [
    {
     "name": "stdout",
     "output_type": "stream",
     "text": [
      "INFO:tensorflow:Restoring parameters from ./lenet\n",
      "TopKV2(values=array([[  9.40822423e-01,   5.91706485e-02,   4.83600388e-06,\n",
      "          8.59712998e-07,   6.71327143e-07],\n",
      "       [  9.99999404e-01,   4.76367092e-07,   8.54151665e-08,\n",
      "          1.39675995e-08,   1.25364137e-08],\n",
      "       [  6.96911931e-01,   1.89062089e-01,   6.26750141e-02,\n",
      "          2.70453338e-02,   1.70812570e-02],\n",
      "       [  9.99753773e-01,   1.09258814e-04,   6.62769744e-05,\n",
      "          4.16127077e-05,   1.25588022e-05],\n",
      "       [  5.92774987e-01,   2.84095287e-01,   1.17227435e-01,\n",
      "          2.35990039e-03,   1.08311512e-03],\n",
      "       [  9.85963047e-01,   1.14074461e-02,   8.19332607e-04,\n",
      "          5.11651859e-04,   4.75707522e-04],\n",
      "       [  9.46573615e-01,   4.47057858e-02,   4.04620776e-03,\n",
      "          3.60289263e-03,   8.01868096e-04],\n",
      "       [  9.78538334e-01,   1.83380954e-02,   1.82086567e-03,\n",
      "          8.00679845e-04,   2.08982499e-04],\n",
      "       [  9.99999881e-01,   9.08193272e-08,   1.76823889e-08,\n",
      "          1.53281299e-08,   1.53233355e-08],\n",
      "       [  3.83204520e-01,   2.02612653e-01,   1.37785196e-01,\n",
      "          8.64738226e-02,   6.57069683e-02]], dtype=float32), indices=array([[18, 26, 27, 37, 25],\n",
      "       [17, 14,  9, 13, 37],\n",
      "       [ 9, 10, 35, 12, 16],\n",
      "       [12, 13, 42, 17, 40],\n",
      "       [ 2,  1,  5,  4, 31],\n",
      "       [30, 34, 42, 35, 25],\n",
      "       [23, 30, 24, 20, 29],\n",
      "       [28, 20, 23, 18, 24],\n",
      "       [13, 15,  9, 38,  2],\n",
      "       [27, 39,  1, 18,  4]], dtype=int32))\n"
     ]
    }
   ],
   "source": [
    "### Print out the top five softmax probabilities for the predictions on the German traffic sign images found on the web. \n",
    "### Feel free to use as many code cells as needed\n",
    "\n",
    "top_k = tf.nn.top_k(tf.nn.softmax(logits), k = 5)\n",
    "\n",
    "with tf.Session() as sess2:\n",
    "    new_saver = tf.train.import_meta_graph('./lenet.meta')\n",
    "    new_saver.restore(sess2, tf.train.latest_checkpoint('.'))\n",
    "    topk = sess2.run(top_k, feed_dict={x: new_images})\n",
    "\n",
    "print(topk)"
   ]
  },
  {
   "cell_type": "markdown",
   "metadata": {},
   "source": [
    "### Project Writeup\n",
    "\n",
    "Once you have completed the code implementation, document your results in a project writeup using this [template](https://github.com/udacity/CarND-Traffic-Sign-Classifier-Project/blob/master/writeup_template.md) as a guide. The writeup can be in a markdown or pdf file. "
   ]
  },
  {
   "cell_type": "markdown",
   "metadata": {},
   "source": [
    "> **Note**: Once you have completed all of the code implementations and successfully answered each question above, you may finalize your work by exporting the iPython Notebook as an HTML document. You can do this by using the menu above and navigating to  \\n\",\n",
    "    \"**File -> Download as -> HTML (.html)**. Include the finished document along with this notebook as your submission."
   ]
  },
  {
   "cell_type": "markdown",
   "metadata": {},
   "source": [
    "---\n",
    "\n",
    "## Step 4 (Optional): Visualize the Neural Network's State with Test Images\n",
    "\n",
    " This Section is not required to complete but acts as an additional excersise for understaning the output of a neural network's weights. While neural networks can be a great learning device they are often referred to as a black box. We can understand what the weights of a neural network look like better by plotting their feature maps. After successfully training your neural network you can see what it's feature maps look like by plotting the output of the network's weight layers in response to a test stimuli image. From these plotted feature maps, it's possible to see what characteristics of an image the network finds interesting. For a sign, maybe the inner network feature maps react with high activation to the sign's boundary outline or to the contrast in the sign's painted symbol.\n",
    "\n",
    " Provided for you below is the function code that allows you to get the visualization output of any tensorflow weight layer you want. The inputs to the function should be a stimuli image, one used during training or a new one you provided, and then the tensorflow variable name that represents the layer's state during the training process, for instance if you wanted to see what the [LeNet lab's](https://classroom.udacity.com/nanodegrees/nd013/parts/fbf77062-5703-404e-b60c-95b78b2f3f9e/modules/6df7ae49-c61c-4bb2-a23e-6527e69209ec/lessons/601ae704-1035-4287-8b11-e2c2716217ad/concepts/d4aca031-508f-4e0b-b493-e7b706120f81) feature maps looked like for it's second convolutional layer you could enter conv2 as the tf_activation variable.\n",
    "\n",
    "For an example of what feature map outputs look like, check out NVIDIA's results in their paper [End-to-End Deep Learning for Self-Driving Cars](https://devblogs.nvidia.com/parallelforall/deep-learning-self-driving-cars/) in the section Visualization of internal CNN State. NVIDIA was able to show that their network's inner weights had high activations to road boundary lines by comparing feature maps from an image with a clear path to one without. Try experimenting with a similar test to show that your trained network's weights are looking for interesting features, whether it's looking at differences in feature maps from images with or without a sign, or even what feature maps look like in a trained network vs a completely untrained one on the same sign image.\n",
    "\n",
    "<figure>\n",
    " <img src=\"visualize_cnn.png\" width=\"380\" alt=\"Combined Image\" />\n",
    " <figcaption>\n",
    " <p></p> \n",
    " <p style=\"text-align: center;\"> Your output should look something like this (above)</p> \n",
    " </figcaption>\n",
    "</figure>\n",
    " <p></p> \n"
   ]
  },
  {
   "cell_type": "code",
   "execution_count": 17,
   "metadata": {
    "collapsed": true
   },
   "outputs": [],
   "source": [
    "### Visualize your network's feature maps here.\n",
    "### Feel free to use as many code cells as needed.\n",
    "\n",
    "# image_input: the test image being fed into the network to produce the feature maps\n",
    "# tf_activation: should be a tf variable name used during your training procedure that represents the calculated state of a specific weight layer\n",
    "# activation_min/max: can be used to view the activation contrast in more detail, by default matplot sets min and max to the actual min and max values of the output\n",
    "# plt_num: used to plot out multiple different weight feature map sets on the same block, just extend the plt number for each new feature map entry\n",
    "\n",
    "def outputFeatureMap(image_input, tf_activation, activation_min=-1, activation_max=-1 ,plt_num=1):\n",
    "    # Here make sure to preprocess your image_input in a way your network expects\n",
    "    # with size, normalization, ect if needed\n",
    "    # image_input =\n",
    "    # Note: x should be the same name as your network's tensorflow data placeholder variable\n",
    "    # If you get an error tf_activation is not defined it may be having trouble accessing the variable from inside a function\n",
    "    activation = tf_activation.eval(session=sess,feed_dict={x : image_input})\n",
    "    featuremaps = activation.shape[3]\n",
    "    plt.figure(plt_num, figsize=(15,15))\n",
    "    for featuremap in range(featuremaps):\n",
    "        plt.subplot(6,8, featuremap+1) # sets the number of feature maps to show on each row and column\n",
    "        plt.title('FeatureMap ' + str(featuremap)) # displays the feature map number\n",
    "        if activation_min != -1 & activation_max != -1:\n",
    "            plt.imshow(activation[0,:,:, featuremap], interpolation=\"nearest\", vmin =activation_min, vmax=activation_max, cmap=\"gray\")\n",
    "        elif activation_max != -1:\n",
    "            plt.imshow(activation[0,:,:, featuremap], interpolation=\"nearest\", vmax=activation_max, cmap=\"gray\")\n",
    "        elif activation_min !=-1:\n",
    "            plt.imshow(activation[0,:,:, featuremap], interpolation=\"nearest\", vmin=activation_min, cmap=\"gray\")\n",
    "        else:\n",
    "            plt.imshow(activation[0,:,:, featuremap], interpolation=\"nearest\", cmap=\"gray\")"
   ]
  },
  {
   "cell_type": "code",
   "execution_count": null,
   "metadata": {
    "collapsed": true
   },
   "outputs": [],
   "source": []
  }
 ],
 "metadata": {
  "anaconda-cloud": {},
  "kernelspec": {
   "display_name": "Python 3",
   "language": "python",
   "name": "python3"
  },
  "language_info": {
   "codemirror_mode": {
    "name": "ipython",
    "version": 3
   },
   "file_extension": ".py",
   "mimetype": "text/x-python",
   "name": "python",
   "nbconvert_exporter": "python",
   "pygments_lexer": "ipython3",
   "version": "3.6.3"
  }
 },
 "nbformat": 4,
 "nbformat_minor": 1
}
